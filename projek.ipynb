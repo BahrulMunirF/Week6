{
  "nbformat": 4,
  "nbformat_minor": 0,
  "metadata": {
    "colab": {
      "name": "projek.ipynb",
      "provenance": [],
      "authorship_tag": "ABX9TyPRRqAsIzPgLGEHtYE4ijYv",
      "include_colab_link": true
    },
    "kernelspec": {
      "name": "python3",
      "display_name": "Python 3"
    },
    "language_info": {
      "name": "python"
    }
  },
  "cells": [
    {
      "cell_type": "markdown",
      "metadata": {
        "id": "view-in-github",
        "colab_type": "text"
      },
      "source": [
        "<a href=\"https://colab.research.google.com/github/BahrulMunirF/Week6/blob/main/projek.ipynb\" target=\"_parent\"><img src=\"https://colab.research.google.com/assets/colab-badge.svg\" alt=\"Open In Colab\"/></a>"
      ]
    },
    {
      "cell_type": "code",
      "metadata": {
        "colab": {
          "base_uri": "https://localhost:8080/"
        },
        "id": "5pbksz6tmesX",
        "outputId": "5ffddaf5-5c81-43d2-b713-bc15caf25b43"
      },
      "source": [
        "from google.colab import drive\n",
        "drive.mount('/content/drive')\n"
      ],
      "execution_count": 1,
      "outputs": [
        {
          "output_type": "stream",
          "text": [
            "Mounted at /content/drive\n"
          ],
          "name": "stdout"
        }
      ]
    },
    {
      "cell_type": "code",
      "metadata": {
        "id": "-qxTNy1fkF-8"
      },
      "source": [
        "# impor paket yang diperlukan\n",
        "import numpy as np\n",
        "import cv2 as cv"
      ],
      "execution_count": 7,
      "outputs": []
    }
  ]
}